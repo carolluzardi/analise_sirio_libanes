{
 "metadata": {
  "language_info": {
   "codemirror_mode": {
    "name": "ipython",
    "version": 3
   },
   "file_extension": ".py",
   "mimetype": "text/x-python",
   "name": "python",
   "nbconvert_exporter": "python",
   "pygments_lexer": "ipython3",
   "version": "3.7.9-final"
  },
  "orig_nbformat": 2,
  "kernelspec": {
   "name": "python3",
   "display_name": "Python 3.7.9 64-bit",
   "metadata": {
    "interpreter": {
     "hash": "fbd32120f55d8fd49b3d8c5c6968e4881aa7f2ee50a1413d023dafb508d42083"
    }
   }
  }
 },
 "nbformat": 4,
 "nbformat_minor": 2,
 "cells": [
  {
   "source": [
    "# Import and understand data"
   ],
   "cell_type": "markdown",
   "metadata": {}
  },
  {
   "source": [
    "Uncomment and run the following cell only if \\emph{openpyxl} package is not installed yet."
   ],
   "cell_type": "markdown",
   "metadata": {}
  },
  {
   "cell_type": "code",
   "execution_count": 12,
   "metadata": {},
   "outputs": [
    {
     "output_type": "stream",
     "name": "stdout",
     "text": [
      "Collecting openpyxl\n",
      "  Downloading openpyxl-3.0.6-py2.py3-none-any.whl (242 kB)\n",
      "Collecting jdcal\n",
      "  Downloading jdcal-1.4.1-py2.py3-none-any.whl (9.5 kB)\n",
      "Collecting et-xmlfile\n",
      "  Downloading et_xmlfile-1.0.1.tar.gz (8.4 kB)\n",
      "Using legacy setup.py install for et-xmlfile, since package 'wheel' is not installed.\n",
      "Installing collected packages: jdcal, et-xmlfile, openpyxl\n",
      "    Running setup.py install for et-xmlfile: started\n",
      "    Running setup.py install for et-xmlfile: finished with status 'done'\n",
      "Successfully installed et-xmlfile-1.0.1 jdcal-1.4.1 openpyxl-3.0.6\n",
      "Note: you may need to restart the kernel to use updated packages.\n",
      "WARNING: You are using pip version 20.1.1; however, version 21.0.1 is available.\n",
      "You should consider upgrading via the 'C:\\Users\\paleo\\AppData\\Local\\Programs\\Python\\Python37\\python.exe -m pip install --upgrade pip' command.\n"
     ]
    }
   ],
   "source": [
    "#pip install openpyxl"
   ]
  },
  {
   "cell_type": "code",
   "execution_count": 19,
   "metadata": {},
   "outputs": [],
   "source": [
    "import pandas as pd\n",
    "import openpyxl\n",
    "import matplotlib.pyplot as pyplot\n",
    "import numpy as np"
   ]
  },
  {
   "cell_type": "code",
   "execution_count": 42,
   "metadata": {},
   "outputs": [
    {
     "output_type": "execute_result",
     "data": {
      "text/plain": [
       "   PATIENT_VISIT_IDENTIFIER  AGE_ABOVE65 AGE_PERCENTIL  GENDER  \\\n",
       "0                         0            1          60th       0   \n",
       "1                         0            1          60th       0   \n",
       "2                         0            1          60th       0   \n",
       "\n",
       "   DISEASE GROUPING 1  DISEASE GROUPING 2  DISEASE GROUPING 3  \\\n",
       "0                 0.0                 0.0                 0.0   \n",
       "1                 0.0                 0.0                 0.0   \n",
       "2                 0.0                 0.0                 0.0   \n",
       "\n",
       "   DISEASE GROUPING 4  DISEASE GROUPING 5  DISEASE GROUPING 6  ...  \\\n",
       "0                 0.0                 1.0                 1.0  ...   \n",
       "1                 0.0                 1.0                 1.0  ...   \n",
       "2                 0.0                 1.0                 1.0  ...   \n",
       "\n",
       "   TEMPERATURE_DIFF  OXYGEN_SATURATION_DIFF  BLOODPRESSURE_DIASTOLIC_DIFF_REL  \\\n",
       "0              -1.0                    -1.0                              -1.0   \n",
       "1              -1.0                    -1.0                              -1.0   \n",
       "2               NaN                     NaN                               NaN   \n",
       "\n",
       "   BLOODPRESSURE_SISTOLIC_DIFF_REL  HEART_RATE_DIFF_REL  \\\n",
       "0                             -1.0                 -1.0   \n",
       "1                             -1.0                 -1.0   \n",
       "2                              NaN                  NaN   \n",
       "\n",
       "   RESPIRATORY_RATE_DIFF_REL  TEMPERATURE_DIFF_REL  \\\n",
       "0                       -1.0                  -1.0   \n",
       "1                       -1.0                  -1.0   \n",
       "2                        NaN                   NaN   \n",
       "\n",
       "   OXYGEN_SATURATION_DIFF_REL  WINDOW  ICU  \n",
       "0                        -1.0     0-2    0  \n",
       "1                        -1.0     2-4    0  \n",
       "2                         NaN     4-6    0  \n",
       "\n",
       "[3 rows x 231 columns]"
      ],
      "text/html": "<div>\n<style scoped>\n    .dataframe tbody tr th:only-of-type {\n        vertical-align: middle;\n    }\n\n    .dataframe tbody tr th {\n        vertical-align: top;\n    }\n\n    .dataframe thead th {\n        text-align: right;\n    }\n</style>\n<table border=\"1\" class=\"dataframe\">\n  <thead>\n    <tr style=\"text-align: right;\">\n      <th></th>\n      <th>PATIENT_VISIT_IDENTIFIER</th>\n      <th>AGE_ABOVE65</th>\n      <th>AGE_PERCENTIL</th>\n      <th>GENDER</th>\n      <th>DISEASE GROUPING 1</th>\n      <th>DISEASE GROUPING 2</th>\n      <th>DISEASE GROUPING 3</th>\n      <th>DISEASE GROUPING 4</th>\n      <th>DISEASE GROUPING 5</th>\n      <th>DISEASE GROUPING 6</th>\n      <th>...</th>\n      <th>TEMPERATURE_DIFF</th>\n      <th>OXYGEN_SATURATION_DIFF</th>\n      <th>BLOODPRESSURE_DIASTOLIC_DIFF_REL</th>\n      <th>BLOODPRESSURE_SISTOLIC_DIFF_REL</th>\n      <th>HEART_RATE_DIFF_REL</th>\n      <th>RESPIRATORY_RATE_DIFF_REL</th>\n      <th>TEMPERATURE_DIFF_REL</th>\n      <th>OXYGEN_SATURATION_DIFF_REL</th>\n      <th>WINDOW</th>\n      <th>ICU</th>\n    </tr>\n  </thead>\n  <tbody>\n    <tr>\n      <th>0</th>\n      <td>0</td>\n      <td>1</td>\n      <td>60th</td>\n      <td>0</td>\n      <td>0.0</td>\n      <td>0.0</td>\n      <td>0.0</td>\n      <td>0.0</td>\n      <td>1.0</td>\n      <td>1.0</td>\n      <td>...</td>\n      <td>-1.0</td>\n      <td>-1.0</td>\n      <td>-1.0</td>\n      <td>-1.0</td>\n      <td>-1.0</td>\n      <td>-1.0</td>\n      <td>-1.0</td>\n      <td>-1.0</td>\n      <td>0-2</td>\n      <td>0</td>\n    </tr>\n    <tr>\n      <th>1</th>\n      <td>0</td>\n      <td>1</td>\n      <td>60th</td>\n      <td>0</td>\n      <td>0.0</td>\n      <td>0.0</td>\n      <td>0.0</td>\n      <td>0.0</td>\n      <td>1.0</td>\n      <td>1.0</td>\n      <td>...</td>\n      <td>-1.0</td>\n      <td>-1.0</td>\n      <td>-1.0</td>\n      <td>-1.0</td>\n      <td>-1.0</td>\n      <td>-1.0</td>\n      <td>-1.0</td>\n      <td>-1.0</td>\n      <td>2-4</td>\n      <td>0</td>\n    </tr>\n    <tr>\n      <th>2</th>\n      <td>0</td>\n      <td>1</td>\n      <td>60th</td>\n      <td>0</td>\n      <td>0.0</td>\n      <td>0.0</td>\n      <td>0.0</td>\n      <td>0.0</td>\n      <td>1.0</td>\n      <td>1.0</td>\n      <td>...</td>\n      <td>NaN</td>\n      <td>NaN</td>\n      <td>NaN</td>\n      <td>NaN</td>\n      <td>NaN</td>\n      <td>NaN</td>\n      <td>NaN</td>\n      <td>NaN</td>\n      <td>4-6</td>\n      <td>0</td>\n    </tr>\n  </tbody>\n</table>\n<p>3 rows × 231 columns</p>\n</div>"
     },
     "metadata": {},
     "execution_count": 42
    }
   ],
   "source": [
    "path = '../data/Kaggle_Sirio_Libanes_ICU_Prediction.xlsx'\n",
    "data = pd.read_excel(path, engine='openpyxl')\n",
    "data.head(3)"
   ]
  },
  {
   "cell_type": "code",
   "execution_count": 43,
   "metadata": {},
   "outputs": [
    {
     "output_type": "stream",
     "name": "stdout",
     "text": [
      "<class 'pandas.core.frame.DataFrame'>\nRangeIndex: 1925 entries, 0 to 1924\nColumns: 231 entries, PATIENT_VISIT_IDENTIFIER to ICU\ndtypes: float64(225), int64(4), object(2)\nmemory usage: 3.4+ MB\n"
     ]
    }
   ],
   "source": [
    "data.info()"
   ]
  },
  {
   "source": [
    "Above we can see that there are useless features in \\emph{data} DataFrame (for instance, PATIENT_VISIT_IDENTIFIER) and there are also missing values in some columns. There are also cateogrical data we need to deal with it so they can enter the machine learning model later. Before we start exploratory analysis and model we will need to deal with those issues . "
   ],
   "cell_type": "markdown",
   "metadata": {}
  },
  {
   "source": [
    "# Data cleaning: Filling missing data"
   ],
   "cell_type": "markdown",
   "metadata": {}
  },
  {
   "source": [
    "The first step is to fill missing values in continual features.\n",
    "Data which are not continual in data:\n",
    "\n",
    "['PATIENT_VISIT_IDENTIFIER', 'AGE_ABOVE65', 'AGE_PERCENTIL', 'GENDER',\n",
    "       'DISEASE GROUPING 1', 'DISEASE GROUPING 2', 'DISEASE GROUPING 3',\n",
    "       'DISEASE GROUPING 4', 'DISEASE GROUPING 5', 'DISEASE GROUPING 6', 'HTN',\n",
    "       'IMMUNOCOMPROMISED', 'OTHER', 'WINDOW', 'ICU']\n",
    "\n",
    "\n"
   ],
   "cell_type": "markdown",
   "metadata": {}
  },
  {
   "cell_type": "code",
   "execution_count": null,
   "metadata": {},
   "outputs": [],
   "source": [
    "def fill_missing_data(data):\n",
    "    features_continuas_colunas = dados.iloc[:, 13:-2].columns # features contínuas\n",
    "    features_continuas = dados.groupby(\"PATIENT_VISIT_IDENTIFIER\", as_index=False)[features_continuas_colunas].fillna(method = \"bfill\").fillna(method=\"ffill\")\n",
    "    features_categoricas = dados.iloc[:, :13]\n",
    "    saida = dados.iloc[:, -2:]\n",
    "    dados_finais = pd.concat([features_categoricas, features_continuas, saida], ignore_index=True, axis=1)\n",
    "    dados_finais.columns = dados.columns # dar nome as colunas\n",
    "    return dados_finais\n",
    "    "
   ]
  }
 ]
}